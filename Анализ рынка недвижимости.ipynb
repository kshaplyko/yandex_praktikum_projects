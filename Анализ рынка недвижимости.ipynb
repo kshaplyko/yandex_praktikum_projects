{
 "cells": [
  {
   "cell_type": "markdown",
   "metadata": {},
   "source": [
    "# Исследование объявлений о продаже квартир\n",
    "\n",
    "В распоряжении данные — архив объявлений о продаже квартир в Санкт-Петербурге и соседних населённых пунктов за несколько лет. Проанализирую имеющиеся данные на наличие взаимосвязей между разными параметрами.\n",
    "\n",
    "Данные содержат основные параметры квартир, такие как:\n",
    "- airports_nearest — расстояние до ближайшего аэропорта в метрах (м)\n",
    "- balcony — число балконов\n",
    "- ceiling_height — высота потолков (м)\n",
    "- cityCenters_nearest — расстояние до центра города (м)\n",
    "- days_exposition — сколько дней было размещено объявление (от публикации до снятия)\n",
    "- first_day_exposition — дата публикации\n",
    "- floor — этаж\n",
    "- floors_total — всего этажей в доме\n",
    "- is_apartment — апартаменты (булев тип)\n",
    "- kitchen_area — площадь кухни в квадратных метрах (м²)\n",
    "- last_price — цена на момент снятия с публикации\n",
    "- living_area — жилая площадь в квадратных метрах(м²)\n",
    "- locality_name — название населённого пункта\n",
    "- open_plan — свободная планировка (булев тип)\n",
    "- parks_around3000 — число парков в радиусе 3 км\n",
    "- parks_nearest — расстояние до ближайшего парка (м)\n",
    "- ponds_around3000 — число водоёмов в радиусе 3 км\n",
    "- ponds_nearest — расстояние до ближайшего водоёма (м)\n",
    "- rooms — число комнат\n",
    "- studio — квартира-студия (булев тип)\n",
    "- total_area — площадь квартиры в квадратных метрах (м²)\n",
    "- total_images — число фотографий квартиры в объявлении\n",
    "\n",
    "Задачи:\n",
    "- Изучить следующие параметры: площадь, цена, число комнат, высота потолков \n",
    "- Изучите время продажи квартиры\n",
    "- Изучить, какие факторы больше всего влияют на стоимость квартиры\n",
    "- Выделить 10 населённых пунктов с наибольшим числом объявлений\n",
    "- Изучить предложения квартир и выяснить, какая область входит в центр\n",
    "- Выделить сегмент квартир в центре и проанализировать какие факторы влияют на стоимость квартиры"
   ]
  },
  {
   "cell_type": "markdown",
   "metadata": {},
   "source": [
    "Открою файл и посмотрю на имеющиеся данные."
   ]
  },
  {
   "cell_type": "code",
   "execution_count": 127,
   "metadata": {},
   "outputs": [
    {
     "name": "stderr",
     "output_type": "stream",
     "text": [
      "<ipython-input-127-95a471d54ed5>:3: ParserWarning: Falling back to the 'python' engine because the 'c' engine does not support sep=None with delim_whitespace=False; you can avoid this warning by specifying engine='python'.\n",
      "  data = pd.read_csv ('/Users/kirillshaplyko1/Yandex.Disk.localized/Обучение/Яндекс практикум/Проекты/real_estate_data.csv', sep=None)\n"
     ]
    },
    {
     "data": {
      "text/html": [
       "<div>\n",
       "<style scoped>\n",
       "    .dataframe tbody tr th:only-of-type {\n",
       "        vertical-align: middle;\n",
       "    }\n",
       "\n",
       "    .dataframe tbody tr th {\n",
       "        vertical-align: top;\n",
       "    }\n",
       "\n",
       "    .dataframe thead th {\n",
       "        text-align: right;\n",
       "    }\n",
       "</style>\n",
       "<table border=\"1\" class=\"dataframe\">\n",
       "  <thead>\n",
       "    <tr style=\"text-align: right;\">\n",
       "      <th></th>\n",
       "      <th>total_images</th>\n",
       "      <th>last_price</th>\n",
       "      <th>total_area</th>\n",
       "      <th>first_day_exposition</th>\n",
       "      <th>rooms</th>\n",
       "      <th>ceiling_height</th>\n",
       "      <th>floors_total</th>\n",
       "      <th>living_area</th>\n",
       "      <th>floor</th>\n",
       "      <th>is_apartment</th>\n",
       "      <th>...</th>\n",
       "      <th>kitchen_area</th>\n",
       "      <th>balcony</th>\n",
       "      <th>locality_name</th>\n",
       "      <th>airports_nearest</th>\n",
       "      <th>cityCenters_nearest</th>\n",
       "      <th>parks_around3000</th>\n",
       "      <th>parks_nearest</th>\n",
       "      <th>ponds_around3000</th>\n",
       "      <th>ponds_nearest</th>\n",
       "      <th>days_exposition</th>\n",
       "    </tr>\n",
       "  </thead>\n",
       "  <tbody>\n",
       "    <tr>\n",
       "      <th>0</th>\n",
       "      <td>20</td>\n",
       "      <td>13000000.0</td>\n",
       "      <td>108.0</td>\n",
       "      <td>2019-03-07T00:00:00</td>\n",
       "      <td>3</td>\n",
       "      <td>2.70</td>\n",
       "      <td>16.0</td>\n",
       "      <td>51.0</td>\n",
       "      <td>8</td>\n",
       "      <td>NaN</td>\n",
       "      <td>...</td>\n",
       "      <td>25.0</td>\n",
       "      <td>NaN</td>\n",
       "      <td>Санкт-Петербург</td>\n",
       "      <td>18863.0</td>\n",
       "      <td>16028.0</td>\n",
       "      <td>1.0</td>\n",
       "      <td>482.0</td>\n",
       "      <td>2.0</td>\n",
       "      <td>755.0</td>\n",
       "      <td>NaN</td>\n",
       "    </tr>\n",
       "    <tr>\n",
       "      <th>1</th>\n",
       "      <td>7</td>\n",
       "      <td>3350000.0</td>\n",
       "      <td>40.4</td>\n",
       "      <td>2018-12-04T00:00:00</td>\n",
       "      <td>1</td>\n",
       "      <td>NaN</td>\n",
       "      <td>11.0</td>\n",
       "      <td>18.6</td>\n",
       "      <td>1</td>\n",
       "      <td>NaN</td>\n",
       "      <td>...</td>\n",
       "      <td>11.0</td>\n",
       "      <td>2.0</td>\n",
       "      <td>посёлок Шушары</td>\n",
       "      <td>12817.0</td>\n",
       "      <td>18603.0</td>\n",
       "      <td>0.0</td>\n",
       "      <td>NaN</td>\n",
       "      <td>0.0</td>\n",
       "      <td>NaN</td>\n",
       "      <td>81.0</td>\n",
       "    </tr>\n",
       "    <tr>\n",
       "      <th>2</th>\n",
       "      <td>10</td>\n",
       "      <td>5196000.0</td>\n",
       "      <td>56.0</td>\n",
       "      <td>2015-08-20T00:00:00</td>\n",
       "      <td>2</td>\n",
       "      <td>NaN</td>\n",
       "      <td>5.0</td>\n",
       "      <td>34.3</td>\n",
       "      <td>4</td>\n",
       "      <td>NaN</td>\n",
       "      <td>...</td>\n",
       "      <td>8.3</td>\n",
       "      <td>0.0</td>\n",
       "      <td>Санкт-Петербург</td>\n",
       "      <td>21741.0</td>\n",
       "      <td>13933.0</td>\n",
       "      <td>1.0</td>\n",
       "      <td>90.0</td>\n",
       "      <td>2.0</td>\n",
       "      <td>574.0</td>\n",
       "      <td>558.0</td>\n",
       "    </tr>\n",
       "    <tr>\n",
       "      <th>3</th>\n",
       "      <td>0</td>\n",
       "      <td>64900000.0</td>\n",
       "      <td>159.0</td>\n",
       "      <td>2015-07-24T00:00:00</td>\n",
       "      <td>3</td>\n",
       "      <td>NaN</td>\n",
       "      <td>14.0</td>\n",
       "      <td>NaN</td>\n",
       "      <td>9</td>\n",
       "      <td>NaN</td>\n",
       "      <td>...</td>\n",
       "      <td>NaN</td>\n",
       "      <td>0.0</td>\n",
       "      <td>Санкт-Петербург</td>\n",
       "      <td>28098.0</td>\n",
       "      <td>6800.0</td>\n",
       "      <td>2.0</td>\n",
       "      <td>84.0</td>\n",
       "      <td>3.0</td>\n",
       "      <td>234.0</td>\n",
       "      <td>424.0</td>\n",
       "    </tr>\n",
       "    <tr>\n",
       "      <th>4</th>\n",
       "      <td>2</td>\n",
       "      <td>10000000.0</td>\n",
       "      <td>100.0</td>\n",
       "      <td>2018-06-19T00:00:00</td>\n",
       "      <td>2</td>\n",
       "      <td>3.03</td>\n",
       "      <td>14.0</td>\n",
       "      <td>32.0</td>\n",
       "      <td>13</td>\n",
       "      <td>NaN</td>\n",
       "      <td>...</td>\n",
       "      <td>41.0</td>\n",
       "      <td>NaN</td>\n",
       "      <td>Санкт-Петербург</td>\n",
       "      <td>31856.0</td>\n",
       "      <td>8098.0</td>\n",
       "      <td>2.0</td>\n",
       "      <td>112.0</td>\n",
       "      <td>1.0</td>\n",
       "      <td>48.0</td>\n",
       "      <td>121.0</td>\n",
       "    </tr>\n",
       "  </tbody>\n",
       "</table>\n",
       "<p>5 rows × 22 columns</p>\n",
       "</div>"
      ],
      "text/plain": [
       "   total_images  last_price  total_area first_day_exposition  rooms  \\\n",
       "0            20  13000000.0       108.0  2019-03-07T00:00:00      3   \n",
       "1             7   3350000.0        40.4  2018-12-04T00:00:00      1   \n",
       "2            10   5196000.0        56.0  2015-08-20T00:00:00      2   \n",
       "3             0  64900000.0       159.0  2015-07-24T00:00:00      3   \n",
       "4             2  10000000.0       100.0  2018-06-19T00:00:00      2   \n",
       "\n",
       "   ceiling_height  floors_total  living_area  floor is_apartment  ...  \\\n",
       "0            2.70          16.0         51.0      8          NaN  ...   \n",
       "1             NaN          11.0         18.6      1          NaN  ...   \n",
       "2             NaN           5.0         34.3      4          NaN  ...   \n",
       "3             NaN          14.0          NaN      9          NaN  ...   \n",
       "4            3.03          14.0         32.0     13          NaN  ...   \n",
       "\n",
       "   kitchen_area  balcony    locality_name  airports_nearest  \\\n",
       "0          25.0      NaN  Санкт-Петербург           18863.0   \n",
       "1          11.0      2.0   посёлок Шушары           12817.0   \n",
       "2           8.3      0.0  Санкт-Петербург           21741.0   \n",
       "3           NaN      0.0  Санкт-Петербург           28098.0   \n",
       "4          41.0      NaN  Санкт-Петербург           31856.0   \n",
       "\n",
       "  cityCenters_nearest  parks_around3000  parks_nearest  ponds_around3000  \\\n",
       "0             16028.0               1.0          482.0               2.0   \n",
       "1             18603.0               0.0            NaN               0.0   \n",
       "2             13933.0               1.0           90.0               2.0   \n",
       "3              6800.0               2.0           84.0               3.0   \n",
       "4              8098.0               2.0          112.0               1.0   \n",
       "\n",
       "   ponds_nearest  days_exposition  \n",
       "0          755.0              NaN  \n",
       "1            NaN             81.0  \n",
       "2          574.0            558.0  \n",
       "3          234.0            424.0  \n",
       "4           48.0            121.0  \n",
       "\n",
       "[5 rows x 22 columns]"
      ]
     },
     "execution_count": 127,
     "metadata": {},
     "output_type": "execute_result"
    }
   ],
   "source": [
    "import pandas as pd\n",
    "import matplotlib.pyplot as plt\n",
    "data = pd.read_csv ('/Users/kirillshaplyko1/Yandex.Disk.localized/Обучение/Яндекс практикум/Проекты/real_estate_data.csv', sep=None)\n",
    "data.head()"
   ]
  },
  {
   "cell_type": "code",
   "execution_count": 128,
   "metadata": {},
   "outputs": [
    {
     "name": "stdout",
     "output_type": "stream",
     "text": [
      "<class 'pandas.core.frame.DataFrame'>\n",
      "RangeIndex: 23699 entries, 0 to 23698\n",
      "Data columns (total 22 columns):\n",
      " #   Column                Non-Null Count  Dtype  \n",
      "---  ------                --------------  -----  \n",
      " 0   total_images          23699 non-null  int64  \n",
      " 1   last_price            23699 non-null  float64\n",
      " 2   total_area            23699 non-null  float64\n",
      " 3   first_day_exposition  23699 non-null  object \n",
      " 4   rooms                 23699 non-null  int64  \n",
      " 5   ceiling_height        14504 non-null  float64\n",
      " 6   floors_total          23613 non-null  float64\n",
      " 7   living_area           21796 non-null  float64\n",
      " 8   floor                 23699 non-null  int64  \n",
      " 9   is_apartment          2775 non-null   object \n",
      " 10  studio                23699 non-null  bool   \n",
      " 11  open_plan             23699 non-null  bool   \n",
      " 12  kitchen_area          21421 non-null  float64\n",
      " 13  balcony               12180 non-null  float64\n",
      " 14  locality_name         23650 non-null  object \n",
      " 15  airports_nearest      18157 non-null  float64\n",
      " 16  cityCenters_nearest   18180 non-null  float64\n",
      " 17  parks_around3000      18181 non-null  float64\n",
      " 18  parks_nearest         8079 non-null   float64\n",
      " 19  ponds_around3000      18181 non-null  float64\n",
      " 20  ponds_nearest         9110 non-null   float64\n",
      " 21  days_exposition       20518 non-null  float64\n",
      "dtypes: bool(2), float64(14), int64(3), object(3)\n",
      "memory usage: 3.7+ MB\n"
     ]
    }
   ],
   "source": [
    "data.info()"
   ]
  },
  {
   "cell_type": "markdown",
   "metadata": {},
   "source": [
    "### Вывод\n",
    "Данные были в формате csv - одной колонке с разделителем '\\'. \n",
    "- first_day_exposition данные отображаются как объекты, нужно перевести в дату.\n",
    "- ceiling_height - есть пропуски, высота потолков есть в каждой квартире. Нужно проанализировать чем заполнить пропуски.\n",
    "- floors_total - аналогично.\n",
    "- living_area - аналогично.\n",
    "- is_apartment - скорее всего отмечено 'да' если аппартаменты, следовательно если пропуск - не аппартаменты.\n",
    "- kitchen_area - аналогично, заполнить пропуски.\n",
    "- balcony - скорее всего отмечено 'да' если есть балкон, следовательно если пропуск - нет балкона.\n",
    "- locality_name - название населенного пункта должно быть везде. Если значение не стоит, то удаляем его - по другим косвенным параметрам никак не определить. Таких значений немного.\n",
    "\n",
    "Остальные данные не обязательные к заполнению - они показывают наличие или отсутствие рядом инфраструктуры/объектов."
   ]
  },
  {
   "cell_type": "markdown",
   "metadata": {},
   "source": [
    "# Предобработка данных"
   ]
  },
  {
   "cell_type": "markdown",
   "metadata": {},
   "source": [
    "**1. Дата публикации**"
   ]
  },
  {
   "cell_type": "code",
   "execution_count": 129,
   "metadata": {},
   "outputs": [
    {
     "data": {
      "text/html": [
       "<div>\n",
       "<style scoped>\n",
       "    .dataframe tbody tr th:only-of-type {\n",
       "        vertical-align: middle;\n",
       "    }\n",
       "\n",
       "    .dataframe tbody tr th {\n",
       "        vertical-align: top;\n",
       "    }\n",
       "\n",
       "    .dataframe thead th {\n",
       "        text-align: right;\n",
       "    }\n",
       "</style>\n",
       "<table border=\"1\" class=\"dataframe\">\n",
       "  <thead>\n",
       "    <tr style=\"text-align: right;\">\n",
       "      <th></th>\n",
       "      <th>total_images</th>\n",
       "      <th>last_price</th>\n",
       "      <th>total_area</th>\n",
       "      <th>first_day_exposition</th>\n",
       "      <th>rooms</th>\n",
       "      <th>ceiling_height</th>\n",
       "      <th>floors_total</th>\n",
       "      <th>living_area</th>\n",
       "      <th>floor</th>\n",
       "      <th>is_apartment</th>\n",
       "      <th>...</th>\n",
       "      <th>kitchen_area</th>\n",
       "      <th>balcony</th>\n",
       "      <th>locality_name</th>\n",
       "      <th>airports_nearest</th>\n",
       "      <th>cityCenters_nearest</th>\n",
       "      <th>parks_around3000</th>\n",
       "      <th>parks_nearest</th>\n",
       "      <th>ponds_around3000</th>\n",
       "      <th>ponds_nearest</th>\n",
       "      <th>days_exposition</th>\n",
       "    </tr>\n",
       "  </thead>\n",
       "  <tbody>\n",
       "    <tr>\n",
       "      <th>0</th>\n",
       "      <td>20</td>\n",
       "      <td>13000000.0</td>\n",
       "      <td>108.0</td>\n",
       "      <td>2019-03-07</td>\n",
       "      <td>3</td>\n",
       "      <td>2.7</td>\n",
       "      <td>16.0</td>\n",
       "      <td>51.0</td>\n",
       "      <td>8</td>\n",
       "      <td>NaN</td>\n",
       "      <td>...</td>\n",
       "      <td>25.0</td>\n",
       "      <td>NaN</td>\n",
       "      <td>Санкт-Петербург</td>\n",
       "      <td>18863.0</td>\n",
       "      <td>16028.0</td>\n",
       "      <td>1.0</td>\n",
       "      <td>482.0</td>\n",
       "      <td>2.0</td>\n",
       "      <td>755.0</td>\n",
       "      <td>NaN</td>\n",
       "    </tr>\n",
       "    <tr>\n",
       "      <th>1</th>\n",
       "      <td>7</td>\n",
       "      <td>3350000.0</td>\n",
       "      <td>40.4</td>\n",
       "      <td>2018-12-04</td>\n",
       "      <td>1</td>\n",
       "      <td>NaN</td>\n",
       "      <td>11.0</td>\n",
       "      <td>18.6</td>\n",
       "      <td>1</td>\n",
       "      <td>NaN</td>\n",
       "      <td>...</td>\n",
       "      <td>11.0</td>\n",
       "      <td>2.0</td>\n",
       "      <td>посёлок Шушары</td>\n",
       "      <td>12817.0</td>\n",
       "      <td>18603.0</td>\n",
       "      <td>0.0</td>\n",
       "      <td>NaN</td>\n",
       "      <td>0.0</td>\n",
       "      <td>NaN</td>\n",
       "      <td>81.0</td>\n",
       "    </tr>\n",
       "  </tbody>\n",
       "</table>\n",
       "<p>2 rows × 22 columns</p>\n",
       "</div>"
      ],
      "text/plain": [
       "   total_images  last_price  total_area first_day_exposition  rooms  \\\n",
       "0            20  13000000.0       108.0           2019-03-07      3   \n",
       "1             7   3350000.0        40.4           2018-12-04      1   \n",
       "\n",
       "   ceiling_height  floors_total  living_area  floor is_apartment  ...  \\\n",
       "0             2.7          16.0         51.0      8          NaN  ...   \n",
       "1             NaN          11.0         18.6      1          NaN  ...   \n",
       "\n",
       "   kitchen_area  balcony    locality_name  airports_nearest  \\\n",
       "0          25.0      NaN  Санкт-Петербург           18863.0   \n",
       "1          11.0      2.0   посёлок Шушары           12817.0   \n",
       "\n",
       "  cityCenters_nearest  parks_around3000  parks_nearest  ponds_around3000  \\\n",
       "0             16028.0               1.0          482.0               2.0   \n",
       "1             18603.0               0.0            NaN               0.0   \n",
       "\n",
       "   ponds_nearest  days_exposition  \n",
       "0          755.0              NaN  \n",
       "1            NaN             81.0  \n",
       "\n",
       "[2 rows x 22 columns]"
      ]
     },
     "execution_count": 129,
     "metadata": {},
     "output_type": "execute_result"
    }
   ],
   "source": [
    "data['first_day_exposition']=pd.to_datetime(data['first_day_exposition'], format='%Y-%m-%dT%H:%M:%S')\n",
    "data.head(2)"
   ]
  },
  {
   "cell_type": "markdown",
   "metadata": {},
   "source": [
    "Привел столбец в форматы даты."
   ]
  },
  {
   "cell_type": "markdown",
   "metadata": {},
   "source": [
    "**2. Высота потолков**"
   ]
  },
  {
   "cell_type": "code",
   "execution_count": 130,
   "metadata": {},
   "outputs": [
    {
     "data": {
      "text/plain": [
       "(0.0, 5.0)"
      ]
     },
     "execution_count": 130,
     "metadata": {},
     "output_type": "execute_result"
    },
    {
     "data": {
      "image/png": "[encoded data removed]",
      "text/plain": [
       "<Figure size 432x288 with 1 Axes>"
      ]
     },
     "metadata": {
      "needs_background": "light"
     },
     "output_type": "display_data"
    }
   ],
   "source": [
    "data.boxplot('ceiling_height') #построил диаграмму размаха, чтобы понять примерный разброс величин\n",
    "plt.ylim(0,5)"
   ]
  },
  {
   "cell_type": "code",
   "execution_count": 131,
   "metadata": {},
   "outputs": [
    {
     "data": {
      "text/html": [
       "<div>\n",
       "<style scoped>\n",
       "    .dataframe tbody tr th:only-of-type {\n",
       "        vertical-align: middle;\n",
       "    }\n",
       "\n",
       "    .dataframe tbody tr th {\n",
       "        vertical-align: top;\n",
       "    }\n",
       "\n",
       "    .dataframe thead th {\n",
       "        text-align: right;\n",
       "    }\n",
       "</style>\n",
       "<table border=\"1\" class=\"dataframe\">\n",
       "  <thead>\n",
       "    <tr style=\"text-align: right;\">\n",
       "      <th></th>\n",
       "      <th>total_images</th>\n",
       "      <th>last_price</th>\n",
       "      <th>total_area</th>\n",
       "      <th>rooms</th>\n",
       "      <th>ceiling_height</th>\n",
       "      <th>floors_total</th>\n",
       "      <th>living_area</th>\n",
       "      <th>floor</th>\n",
       "      <th>kitchen_area</th>\n",
       "      <th>balcony</th>\n",
       "      <th>airports_nearest</th>\n",
       "      <th>cityCenters_nearest</th>\n",
       "      <th>parks_around3000</th>\n",
       "      <th>parks_nearest</th>\n",
       "      <th>ponds_around3000</th>\n",
       "      <th>ponds_nearest</th>\n",
       "      <th>days_exposition</th>\n",
       "    </tr>\n",
       "  </thead>\n",
       "  <tbody>\n",
       "    <tr>\n",
       "      <th>count</th>\n",
       "      <td>23699.000000</td>\n",
       "      <td>2.369900e+04</td>\n",
       "      <td>23699.000000</td>\n",
       "      <td>23699.000000</td>\n",
       "      <td>14504.000000</td>\n",
       "      <td>23613.000000</td>\n",
       "      <td>21796.000000</td>\n",
       "      <td>23699.000000</td>\n",
       "      <td>21421.000000</td>\n",
       "      <td>12180.000000</td>\n",
       "      <td>18157.000000</td>\n",
       "      <td>18180.000000</td>\n",
       "      <td>18181.000000</td>\n",
       "      <td>8079.000000</td>\n",
       "      <td>18181.000000</td>\n",
       "      <td>9110.000000</td>\n",
       "      <td>20518.000000</td>\n",
       "    </tr>\n",
       "    <tr>\n",
       "      <th>mean</th>\n",
       "      <td>9.858475</td>\n",
       "      <td>6.541549e+06</td>\n",
       "      <td>60.348651</td>\n",
       "      <td>2.070636</td>\n",
       "      <td>2.771499</td>\n",
       "      <td>10.673824</td>\n",
       "      <td>34.457852</td>\n",
       "      <td>5.892358</td>\n",
       "      <td>10.569807</td>\n",
       "      <td>1.150082</td>\n",
       "      <td>28793.672193</td>\n",
       "      <td>14191.277833</td>\n",
       "      <td>0.611408</td>\n",
       "      <td>490.804555</td>\n",
       "      <td>0.770255</td>\n",
       "      <td>517.980900</td>\n",
       "      <td>180.888634</td>\n",
       "    </tr>\n",
       "    <tr>\n",
       "      <th>std</th>\n",
       "      <td>5.682529</td>\n",
       "      <td>1.088701e+07</td>\n",
       "      <td>35.654083</td>\n",
       "      <td>1.078405</td>\n",
       "      <td>1.261056</td>\n",
       "      <td>6.597173</td>\n",
       "      <td>22.030445</td>\n",
       "      <td>4.885249</td>\n",
       "      <td>5.905438</td>\n",
       "      <td>1.071300</td>\n",
       "      <td>12630.880622</td>\n",
       "      <td>8608.386210</td>\n",
       "      <td>0.802074</td>\n",
       "      <td>342.317995</td>\n",
       "      <td>0.938346</td>\n",
       "      <td>277.720643</td>\n",
       "      <td>219.727988</td>\n",
       "    </tr>\n",
       "    <tr>\n",
       "      <th>min</th>\n",
       "      <td>0.000000</td>\n",
       "      <td>1.219000e+04</td>\n",
       "      <td>12.000000</td>\n",
       "      <td>0.000000</td>\n",
       "      <td>1.000000</td>\n",
       "      <td>1.000000</td>\n",
       "      <td>2.000000</td>\n",
       "      <td>1.000000</td>\n",
       "      <td>1.300000</td>\n",
       "      <td>0.000000</td>\n",
       "      <td>0.000000</td>\n",
       "      <td>181.000000</td>\n",
       "      <td>0.000000</td>\n",
       "      <td>1.000000</td>\n",
       "      <td>0.000000</td>\n",
       "      <td>13.000000</td>\n",
       "      <td>1.000000</td>\n",
       "    </tr>\n",
       "    <tr>\n",
       "      <th>25%</th>\n",
       "      <td>6.000000</td>\n",
       "      <td>3.400000e+06</td>\n",
       "      <td>40.000000</td>\n",
       "      <td>1.000000</td>\n",
       "      <td>2.520000</td>\n",
       "      <td>5.000000</td>\n",
       "      <td>18.600000</td>\n",
       "      <td>2.000000</td>\n",
       "      <td>7.000000</td>\n",
       "      <td>0.000000</td>\n",
       "      <td>18585.000000</td>\n",
       "      <td>9238.000000</td>\n",
       "      <td>0.000000</td>\n",
       "      <td>288.000000</td>\n",
       "      <td>0.000000</td>\n",
       "      <td>294.000000</td>\n",
       "      <td>45.000000</td>\n",
       "    </tr>\n",
       "    <tr>\n",
       "      <th>50%</th>\n",
       "      <td>9.000000</td>\n",
       "      <td>4.650000e+06</td>\n",
       "      <td>52.000000</td>\n",
       "      <td>2.000000</td>\n",
       "      <td>2.650000</td>\n",
       "      <td>9.000000</td>\n",
       "      <td>30.000000</td>\n",
       "      <td>4.000000</td>\n",
       "      <td>9.100000</td>\n",
       "      <td>1.000000</td>\n",
       "      <td>26726.000000</td>\n",
       "      <td>13098.500000</td>\n",
       "      <td>0.000000</td>\n",
       "      <td>455.000000</td>\n",
       "      <td>1.000000</td>\n",
       "      <td>502.000000</td>\n",
       "      <td>95.000000</td>\n",
       "    </tr>\n",
       "    <tr>\n",
       "      <th>75%</th>\n",
       "      <td>14.000000</td>\n",
       "      <td>6.800000e+06</td>\n",
       "      <td>69.900000</td>\n",
       "      <td>3.000000</td>\n",
       "      <td>2.800000</td>\n",
       "      <td>16.000000</td>\n",
       "      <td>42.300000</td>\n",
       "      <td>8.000000</td>\n",
       "      <td>12.000000</td>\n",
       "      <td>2.000000</td>\n",
       "      <td>37273.000000</td>\n",
       "      <td>16293.000000</td>\n",
       "      <td>1.000000</td>\n",
       "      <td>612.000000</td>\n",
       "      <td>1.000000</td>\n",
       "      <td>729.000000</td>\n",
       "      <td>232.000000</td>\n",
       "    </tr>\n",
       "    <tr>\n",
       "      <th>max</th>\n",
       "      <td>50.000000</td>\n",
       "      <td>7.630000e+08</td>\n",
       "      <td>900.000000</td>\n",
       "      <td>19.000000</td>\n",
       "      <td>100.000000</td>\n",
       "      <td>60.000000</td>\n",
       "      <td>409.700000</td>\n",
       "      <td>33.000000</td>\n",
       "      <td>112.000000</td>\n",
       "      <td>5.000000</td>\n",
       "      <td>84869.000000</td>\n",
       "      <td>65968.000000</td>\n",
       "      <td>3.000000</td>\n",
       "      <td>3190.000000</td>\n",
       "      <td>3.000000</td>\n",
       "      <td>1344.000000</td>\n",
       "      <td>1580.000000</td>\n",
       "    </tr>\n",
       "  </tbody>\n",
       "</table>\n",
       "</div>"
      ],
      "text/plain": [
       "       total_images    last_price    total_area         rooms  ceiling_height  \\\n",
       "count  23699.000000  2.369900e+04  23699.000000  23699.000000    14504.000000   \n",
       "mean       9.858475  6.541549e+06     60.348651      2.070636        2.771499   \n",
       "std        5.682529  1.088701e+07     35.654083      1.078405        1.261056   \n",
       "min        0.000000  1.219000e+04     12.000000      0.000000        1.000000   \n",
       "25%        6.000000  3.400000e+06     40.000000      1.000000        2.520000   \n",
       "50%        9.000000  4.650000e+06     52.000000      2.000000        2.650000   \n",
       "75%       14.000000  6.800000e+06     69.900000      3.000000        2.800000   \n",
       "max       50.000000  7.630000e+08    900.000000     19.000000      100.000000   \n",
       "\n",
       "       floors_total   living_area         floor  kitchen_area       balcony  \\\n",
       "count  23613.000000  21796.000000  23699.000000  21421.000000  12180.000000   \n",
       "mean      10.673824     34.457852      5.892358     10.569807      1.150082   \n",
       "std        6.597173     22.030445      4.885249      5.905438      1.071300   \n",
       "min        1.000000      2.000000      1.000000      1.300000      0.000000   \n",
       "25%        5.000000     18.600000      2.000000      7.000000      0.000000   \n",
       "50%        9.000000     30.000000      4.000000      9.100000      1.000000   \n",
       "75%       16.000000     42.300000      8.000000     12.000000      2.000000   \n",
       "max       60.000000    409.700000     33.000000    112.000000      5.000000   \n",
       "\n",
       "       airports_nearest  cityCenters_nearest  parks_around3000  parks_nearest  \\\n",
       "count      18157.000000         18180.000000      18181.000000    8079.000000   \n",
       "mean       28793.672193         14191.277833          0.611408     490.804555   \n",
       "std        12630.880622          8608.386210          0.802074     342.317995   \n",
       "min            0.000000           181.000000          0.000000       1.000000   \n",
       "25%        18585.000000          9238.000000          0.000000     288.000000   \n",
       "50%        26726.000000         13098.500000          0.000000     455.000000   \n",
       "75%        37273.000000         16293.000000          1.000000     612.000000   \n",
       "max        84869.000000         65968.000000          3.000000    3190.000000   \n",
       "\n",
       "       ponds_around3000  ponds_nearest  days_exposition  \n",
       "count      18181.000000    9110.000000     20518.000000  \n",
       "mean           0.770255     517.980900       180.888634  \n",
       "std            0.938346     277.720643       219.727988  \n",
       "min            0.000000      13.000000         1.000000  \n",
       "25%            0.000000     294.000000        45.000000  \n",
       "50%            1.000000     502.000000        95.000000  \n",
       "75%            1.000000     729.000000       232.000000  \n",
       "max            3.000000    1344.000000      1580.000000  "
      ]
     },
     "execution_count": 131,
     "metadata": {},
     "output_type": "execute_result"
    }
   ],
   "source": [
    "data.describe() #посмотрел информацию - минимальное значение 1, максимальное 100"
   ]
  },
  {
   "cell_type": "code",
   "execution_count": 132,
   "metadata": {},
   "outputs": [
    {
     "name": "stdout",
     "output_type": "stream",
     "text": [
      "75\n",
      "73\n"
     ]
    }
   ],
   "source": [
    "print(len(data.query('ceiling_height > 4'))) #75 позиций с потолками выше 4 метров\n",
    "print(len(data.query('ceiling_height < 2.5'))) #73 позиций с потолками ниже 2.5 метров"
   ]
  },
  {
   "cell_type": "code",
   "execution_count": 133,
   "metadata": {},
   "outputs": [
    {
     "data": {
      "text/plain": [
       "count    23551.000000\n",
       "mean         2.694379\n",
       "std          0.203935\n",
       "min          2.500000\n",
       "25%          2.600000\n",
       "50%          2.650000\n",
       "75%          2.700000\n",
       "max          4.000000\n",
       "Name: ceiling_height, dtype: float64"
      ]
     },
     "execution_count": 133,
     "metadata": {},
     "output_type": "execute_result"
    }
   ],
   "source": [
    "median_height = data.query('ceiling_height <4 | ceiling_height >2.5')['ceiling_height'].median() \n",
    "#2.65м медианное значение, без учета аномальных\n",
    "data['ceiling_height'] = data['ceiling_height'].fillna(median_height) \n",
    "#заполнил пропуски медианным значением\n",
    "data = data.query('ceiling_height <=4 & ceiling_height >=2.5') \n",
    "#оставляем в таблице только нормальные значения\n",
    "data['ceiling_height'].describe()"
   ]
  },
  {
   "cell_type": "markdown",
   "metadata": {},
   "source": [
    "Высота потолков выше 4х метров выглядить неправдоподобно, таких 75 записей. 73 записи с высотой ниже 2.5 метров.\n",
    "Посчитал медианное значение без учета аномальных. Заполнил пропуски медианным значением. Убрал аномальные."
   ]
  },
  {
   "cell_type": "markdown",
   "metadata": {},
   "source": [
    "**3. Площадь квартиры - жилая и общая**"
   ]
  },
  {
   "cell_type": "code",
   "execution_count": 134,
   "metadata": {},
   "outputs": [
    {
     "data": {
      "text/plain": [
       "count    21660.000000\n",
       "mean        34.365432\n",
       "std         21.674077\n",
       "min          2.000000\n",
       "25%         18.600000\n",
       "50%         30.000000\n",
       "75%         42.300000\n",
       "max        409.700000\n",
       "Name: living_area, dtype: float64"
      ]
     },
     "execution_count": 134,
     "metadata": {},
     "output_type": "execute_result"
    }
   ],
   "source": [
    "data['living_area'].describe()"
   ]
  },
  {
   "cell_type": "code",
   "execution_count": 135,
   "metadata": {},
   "outputs": [
    {
     "data": {
      "text/plain": [
       "count    23551.000000\n",
       "mean        60.217095\n",
       "std         35.079488\n",
       "min         12.000000\n",
       "25%         40.000000\n",
       "50%         52.000000\n",
       "75%         69.775000\n",
       "max        900.000000\n",
       "Name: total_area, dtype: float64"
      ]
     },
     "execution_count": 135,
     "metadata": {},
     "output_type": "execute_result"
    }
   ],
   "source": [
    "data['total_area'].describe()"
   ]
  },
  {
   "cell_type": "code",
   "execution_count": 136,
   "metadata": {},
   "outputs": [
    {
     "data": {
      "text/plain": [
       "31"
      ]
     },
     "execution_count": 136,
     "metadata": {},
     "output_type": "execute_result"
    }
   ],
   "source": [
    "median_proportion_living_area=(data['living_area']/data['total_area']).median() \n",
    "#среднее соотношение жилой к общей площади\n",
    "\n",
    "data['living_area']=data['living_area'].fillna(data['total_area']*median_proportion_living_area)\n",
    "#заполнил пропуски в жилой площади % от общей\n",
    "\n",
    "total_living=data['total_area']-data['living_area']\n",
    "total_living[total_living < 0] #проверил, что жилая площадь не больше общей площади\n",
    "len(data.query('living_area <10')) #31 позиция жилой площади меньше 10 кв м"
   ]
  },
  {
   "cell_type": "code",
   "execution_count": 137,
   "metadata": {},
   "outputs": [
    {
     "data": {
      "text/plain": [
       "23520"
      ]
     },
     "execution_count": 137,
     "metadata": {},
     "output_type": "execute_result"
    }
   ],
   "source": [
    "data = data.query('living_area >=10')\n",
    "len(data['living_area'])"
   ]
  },
  {
   "cell_type": "markdown",
   "metadata": {},
   "source": [
    "- посмотрел информацию о 2-х столбцах - жилая площадь и общая площадь, расчитал среднюю пропорцию - отношение жилой площади к общей\n",
    "- заполнил пропуски в жилой площади с помощью этой пропорции\n",
    "- проверил, что общая площадь больше жилой площади\n",
    "- убрал значения с жилой площадью меньше 10 кв м"
   ]
  },
  {
   "cell_type": "markdown",
   "metadata": {},
   "source": [
    "**4. Этажи**"
   ]
  },
  {
   "cell_type": "code",
   "execution_count": 138,
   "metadata": {},
   "outputs": [
    {
     "data": {
      "text/plain": [
       "count    23434.000000\n",
       "mean        10.692157\n",
       "std          6.595944\n",
       "min          1.000000\n",
       "25%          5.000000\n",
       "50%          9.000000\n",
       "75%         16.000000\n",
       "max         60.000000\n",
       "Name: floors_total, dtype: float64"
      ]
     },
     "execution_count": 138,
     "metadata": {},
     "output_type": "execute_result"
    }
   ],
   "source": [
    "data['floors_total'].describe()"
   ]
  },
  {
   "cell_type": "code",
   "execution_count": 139,
   "metadata": {},
   "outputs": [
    {
     "data": {
      "text/plain": [
       "count    23520.000000\n",
       "mean         5.898980\n",
       "std          4.888188\n",
       "min          1.000000\n",
       "25%          2.000000\n",
       "50%          4.000000\n",
       "75%          8.000000\n",
       "max         33.000000\n",
       "Name: floor, dtype: float64"
      ]
     },
     "execution_count": 139,
     "metadata": {},
     "output_type": "execute_result"
    }
   ],
   "source": [
    "data['floor'].describe()"
   ]
  },
  {
   "cell_type": "code",
   "execution_count": 140,
   "metadata": {},
   "outputs": [
    {
     "data": {
      "text/plain": [
       "count    23520.000000\n",
       "mean        10.689711\n",
       "std          6.594573\n",
       "min          1.000000\n",
       "25%          5.000000\n",
       "50%          9.000000\n",
       "75%         16.000000\n",
       "max         60.000000\n",
       "Name: floors_total, dtype: float64"
      ]
     },
     "execution_count": 140,
     "metadata": {},
     "output_type": "execute_result"
    }
   ],
   "source": [
    "data['floors_total'] = data['floors_total'].fillna(data['floor']) #заполнил пропуски медианой\n",
    "data['floors_total'].describe()"
   ]
  },
  {
   "cell_type": "code",
   "execution_count": 141,
   "metadata": {},
   "outputs": [
    {
     "data": {
      "text/html": [
       "<div>\n",
       "<style scoped>\n",
       "    .dataframe tbody tr th:only-of-type {\n",
       "        vertical-align: middle;\n",
       "    }\n",
       "\n",
       "    .dataframe tbody tr th {\n",
       "        vertical-align: top;\n",
       "    }\n",
       "\n",
       "    .dataframe thead th {\n",
       "        text-align: right;\n",
       "    }\n",
       "</style>\n",
       "<table border=\"1\" class=\"dataframe\">\n",
       "  <thead>\n",
       "    <tr style=\"text-align: right;\">\n",
       "      <th></th>\n",
       "      <th>total_images</th>\n",
       "      <th>last_price</th>\n",
       "      <th>total_area</th>\n",
       "      <th>first_day_exposition</th>\n",
       "      <th>rooms</th>\n",
       "      <th>ceiling_height</th>\n",
       "      <th>floors_total</th>\n",
       "      <th>living_area</th>\n",
       "      <th>floor</th>\n",
       "      <th>is_apartment</th>\n",
       "      <th>...</th>\n",
       "      <th>balcony</th>\n",
       "      <th>locality_name</th>\n",
       "      <th>airports_nearest</th>\n",
       "      <th>cityCenters_nearest</th>\n",
       "      <th>parks_around3000</th>\n",
       "      <th>parks_nearest</th>\n",
       "      <th>ponds_around3000</th>\n",
       "      <th>ponds_nearest</th>\n",
       "      <th>days_exposition</th>\n",
       "      <th>last_floor</th>\n",
       "    </tr>\n",
       "  </thead>\n",
       "  <tbody>\n",
       "  </tbody>\n",
       "</table>\n",
       "<p>0 rows × 23 columns</p>\n",
       "</div>"
      ],
      "text/plain": [
       "Empty DataFrame\n",
       "Columns: [total_images, last_price, total_area, first_day_exposition, rooms, ceiling_height, floors_total, living_area, floor, is_apartment, studio, open_plan, kitchen_area, balcony, locality_name, airports_nearest, cityCenters_nearest, parks_around3000, parks_nearest, ponds_around3000, ponds_nearest, days_exposition, last_floor]\n",
       "Index: []\n",
       "\n",
       "[0 rows x 23 columns]"
      ]
     },
     "execution_count": 141,
     "metadata": {},
     "output_type": "execute_result"
    }
   ],
   "source": [
    "data['last_floor'] = data['floors_total']-data['floor']\n",
    "data.query('last_floor<0') #проверил, что жилой этаж не больше чем общая этажность дома"
   ]
  },
  {
   "cell_type": "markdown",
   "metadata": {},
   "source": [
    "- заполнил пропуски в этажности дома этажом квартиры\n",
    "- проверил, что этаж квартиры меньше, чем этажность дома"
   ]
  },
  {
   "cell_type": "markdown",
   "metadata": {},
   "source": [
    "**5. Площадь кухни**"
   ]
  },
  {
   "cell_type": "code",
   "execution_count": 142,
   "metadata": {},
   "outputs": [
    {
     "data": {
      "text/plain": [
       "count    21271.000000\n",
       "mean        10.554430\n",
       "std          5.869074\n",
       "min          1.300000\n",
       "25%          7.000000\n",
       "50%          9.100000\n",
       "75%         12.000000\n",
       "max        112.000000\n",
       "Name: kitchen_area, dtype: float64"
      ]
     },
     "execution_count": 142,
     "metadata": {},
     "output_type": "execute_result"
    }
   ],
   "source": [
    "data['kitchen_area'].describe()"
   ]
  },
  {
   "cell_type": "code",
   "execution_count": 143,
   "metadata": {},
   "outputs": [
    {
     "data": {
      "text/plain": [
       "count    23520.000000\n",
       "mean        10.415356\n",
       "std          5.597774\n",
       "min          1.300000\n",
       "25%          7.400000\n",
       "50%          9.100000\n",
       "75%         11.400000\n",
       "max        112.000000\n",
       "Name: kitchen_area, dtype: float64"
      ]
     },
     "execution_count": 143,
     "metadata": {},
     "output_type": "execute_result"
    }
   ],
   "source": [
    "data['kitchen_area']=data['kitchen_area'].fillna(data['kitchen_area'].median())\n",
    "data['kitchen_area'].describe()"
   ]
  },
  {
   "cell_type": "markdown",
   "metadata": {},
   "source": [
    "Заполнил пропуски медианным значением"
   ]
  },
  {
   "cell_type": "markdown",
   "metadata": {},
   "source": [
    "### Добавление параметров в таблицу\n",
    "Для удобства дальнейшего анализа добавим некоторые значения в имеющиеся данные:\n",
    "- цена квадратного метра\n",
    "- соотношение площадей"
   ]
  },
  {
   "cell_type": "markdown",
   "metadata": {},
   "source": [
    "**1. Цена 1 квадратного метра**"
   ]
  },
  {
   "cell_type": "code",
   "execution_count": 144,
   "metadata": {},
   "outputs": [
    {
     "data": {
      "text/plain": [
       "<matplotlib.axes._subplots.AxesSubplot at 0x7fb8ff594430>"
      ]
     },
     "execution_count": 144,
     "metadata": {},
     "output_type": "execute_result"
    },
    {
     "data": {
      "image/png": "[encoded data removed]",
      "text/plain": [
       "<Figure size 432x288 with 1 Axes>"
      ]
     },
     "metadata": {
      "needs_background": "light"
     },
     "output_type": "display_data"
    }
   ],
   "source": [
    "data['Price_per_sqm']=data['last_price']/data['total_area']\n",
    "data['Price_per_sqm'].hist(range=(0,200000))"
   ]
  },
  {
   "cell_type": "markdown",
   "metadata": {},
   "source": [
    "**2. Соотношения площадей**"
   ]
  },
  {
   "cell_type": "code",
   "execution_count": 145,
   "metadata": {},
   "outputs": [
    {
     "data": {
      "text/html": [
       "<div>\n",
       "<style scoped>\n",
       "    .dataframe tbody tr th:only-of-type {\n",
       "        vertical-align: middle;\n",
       "    }\n",
       "\n",
       "    .dataframe tbody tr th {\n",
       "        vertical-align: top;\n",
       "    }\n",
       "\n",
       "    .dataframe thead th {\n",
       "        text-align: right;\n",
       "    }\n",
       "</style>\n",
       "<table border=\"1\" class=\"dataframe\">\n",
       "  <thead>\n",
       "    <tr style=\"text-align: right;\">\n",
       "      <th></th>\n",
       "      <th>total_images</th>\n",
       "      <th>last_price</th>\n",
       "      <th>total_area</th>\n",
       "      <th>first_day_exposition</th>\n",
       "      <th>rooms</th>\n",
       "      <th>ceiling_height</th>\n",
       "      <th>floors_total</th>\n",
       "      <th>living_area</th>\n",
       "      <th>floor</th>\n",
       "      <th>is_apartment</th>\n",
       "      <th>...</th>\n",
       "      <th>cityCenters_nearest</th>\n",
       "      <th>parks_around3000</th>\n",
       "      <th>parks_nearest</th>\n",
       "      <th>ponds_around3000</th>\n",
       "      <th>ponds_nearest</th>\n",
       "      <th>days_exposition</th>\n",
       "      <th>last_floor</th>\n",
       "      <th>Price_per_sqm</th>\n",
       "      <th>living_total_area</th>\n",
       "      <th>kitchen_total_area</th>\n",
       "    </tr>\n",
       "  </thead>\n",
       "  <tbody>\n",
       "    <tr>\n",
       "      <th>0</th>\n",
       "      <td>20</td>\n",
       "      <td>13000000.0</td>\n",
       "      <td>108.0</td>\n",
       "      <td>2019-03-07</td>\n",
       "      <td>3</td>\n",
       "      <td>2.70</td>\n",
       "      <td>16.0</td>\n",
       "      <td>51.000000</td>\n",
       "      <td>8</td>\n",
       "      <td>NaN</td>\n",
       "      <td>...</td>\n",
       "      <td>16028.0</td>\n",
       "      <td>1.0</td>\n",
       "      <td>482.0</td>\n",
       "      <td>2.0</td>\n",
       "      <td>755.0</td>\n",
       "      <td>NaN</td>\n",
       "      <td>8.0</td>\n",
       "      <td>120370.370370</td>\n",
       "      <td>0.472222</td>\n",
       "      <td>0.231481</td>\n",
       "    </tr>\n",
       "    <tr>\n",
       "      <th>1</th>\n",
       "      <td>7</td>\n",
       "      <td>3350000.0</td>\n",
       "      <td>40.4</td>\n",
       "      <td>2018-12-04</td>\n",
       "      <td>1</td>\n",
       "      <td>2.65</td>\n",
       "      <td>11.0</td>\n",
       "      <td>18.600000</td>\n",
       "      <td>1</td>\n",
       "      <td>NaN</td>\n",
       "      <td>...</td>\n",
       "      <td>18603.0</td>\n",
       "      <td>0.0</td>\n",
       "      <td>NaN</td>\n",
       "      <td>0.0</td>\n",
       "      <td>NaN</td>\n",
       "      <td>81.0</td>\n",
       "      <td>10.0</td>\n",
       "      <td>82920.792079</td>\n",
       "      <td>0.460396</td>\n",
       "      <td>0.272277</td>\n",
       "    </tr>\n",
       "    <tr>\n",
       "      <th>2</th>\n",
       "      <td>10</td>\n",
       "      <td>5196000.0</td>\n",
       "      <td>56.0</td>\n",
       "      <td>2015-08-20</td>\n",
       "      <td>2</td>\n",
       "      <td>2.65</td>\n",
       "      <td>5.0</td>\n",
       "      <td>34.300000</td>\n",
       "      <td>4</td>\n",
       "      <td>NaN</td>\n",
       "      <td>...</td>\n",
       "      <td>13933.0</td>\n",
       "      <td>1.0</td>\n",
       "      <td>90.0</td>\n",
       "      <td>2.0</td>\n",
       "      <td>574.0</td>\n",
       "      <td>558.0</td>\n",
       "      <td>1.0</td>\n",
       "      <td>92785.714286</td>\n",
       "      <td>0.612500</td>\n",
       "      <td>0.148214</td>\n",
       "    </tr>\n",
       "    <tr>\n",
       "      <th>3</th>\n",
       "      <td>0</td>\n",
       "      <td>64900000.0</td>\n",
       "      <td>159.0</td>\n",
       "      <td>2015-07-24</td>\n",
       "      <td>3</td>\n",
       "      <td>2.65</td>\n",
       "      <td>14.0</td>\n",
       "      <td>90.230061</td>\n",
       "      <td>9</td>\n",
       "      <td>NaN</td>\n",
       "      <td>...</td>\n",
       "      <td>6800.0</td>\n",
       "      <td>2.0</td>\n",
       "      <td>84.0</td>\n",
       "      <td>3.0</td>\n",
       "      <td>234.0</td>\n",
       "      <td>424.0</td>\n",
       "      <td>5.0</td>\n",
       "      <td>408176.100629</td>\n",
       "      <td>0.567485</td>\n",
       "      <td>0.057233</td>\n",
       "    </tr>\n",
       "    <tr>\n",
       "      <th>4</th>\n",
       "      <td>2</td>\n",
       "      <td>10000000.0</td>\n",
       "      <td>100.0</td>\n",
       "      <td>2018-06-19</td>\n",
       "      <td>2</td>\n",
       "      <td>3.03</td>\n",
       "      <td>14.0</td>\n",
       "      <td>32.000000</td>\n",
       "      <td>13</td>\n",
       "      <td>NaN</td>\n",
       "      <td>...</td>\n",
       "      <td>8098.0</td>\n",
       "      <td>2.0</td>\n",
       "      <td>112.0</td>\n",
       "      <td>1.0</td>\n",
       "      <td>48.0</td>\n",
       "      <td>121.0</td>\n",
       "      <td>1.0</td>\n",
       "      <td>100000.000000</td>\n",
       "      <td>0.320000</td>\n",
       "      <td>0.410000</td>\n",
       "    </tr>\n",
       "  </tbody>\n",
       "</table>\n",
       "<p>5 rows × 26 columns</p>\n",
       "</div>"
      ],
      "text/plain": [
       "   total_images  last_price  total_area first_day_exposition  rooms  \\\n",
       "0            20  13000000.0       108.0           2019-03-07      3   \n",
       "1             7   3350000.0        40.4           2018-12-04      1   \n",
       "2            10   5196000.0        56.0           2015-08-20      2   \n",
       "3             0  64900000.0       159.0           2015-07-24      3   \n",
       "4             2  10000000.0       100.0           2018-06-19      2   \n",
       "\n",
       "   ceiling_height  floors_total  living_area  floor is_apartment  ...  \\\n",
       "0            2.70          16.0    51.000000      8          NaN  ...   \n",
       "1            2.65          11.0    18.600000      1          NaN  ...   \n",
       "2            2.65           5.0    34.300000      4          NaN  ...   \n",
       "3            2.65          14.0    90.230061      9          NaN  ...   \n",
       "4            3.03          14.0    32.000000     13          NaN  ...   \n",
       "\n",
       "   cityCenters_nearest  parks_around3000  parks_nearest  ponds_around3000  \\\n",
       "0              16028.0               1.0          482.0               2.0   \n",
       "1              18603.0               0.0            NaN               0.0   \n",
       "2              13933.0               1.0           90.0               2.0   \n",
       "3               6800.0               2.0           84.0               3.0   \n",
       "4               8098.0               2.0          112.0               1.0   \n",
       "\n",
       "  ponds_nearest  days_exposition  last_floor  Price_per_sqm  \\\n",
       "0         755.0              NaN         8.0  120370.370370   \n",
       "1           NaN             81.0        10.0   82920.792079   \n",
       "2         574.0            558.0         1.0   92785.714286   \n",
       "3         234.0            424.0         5.0  408176.100629   \n",
       "4          48.0            121.0         1.0  100000.000000   \n",
       "\n",
       "   living_total_area  kitchen_total_area  \n",
       "0           0.472222            0.231481  \n",
       "1           0.460396            0.272277  \n",
       "2           0.612500            0.148214  \n",
       "3           0.567485            0.057233  \n",
       "4           0.320000            0.410000  \n",
       "\n",
       "[5 rows x 26 columns]"
      ]
     },
     "execution_count": 145,
     "metadata": {},
     "output_type": "execute_result"
    }
   ],
   "source": [
    "data['living_total_area']=data['living_area']/data['total_area']\n",
    "data['kitchen_total_area']=data['kitchen_area']/data['total_area']\n",
    "data.head()"
   ]
  },
  {
   "cell_type": "markdown",
   "metadata": {},
   "source": [
    "### Исследовательский анализ данных"
   ]
  },
  {
   "cell_type": "markdown",
   "metadata": {},
   "source": [
    "**1. Изучение параметров - площадь, цена, число комнат, высота потолков**"
   ]
  },
  {
   "cell_type": "code",
   "execution_count": 146,
   "metadata": {},
   "outputs": [
    {
     "data": {
      "text/html": [
       "<div>\n",
       "<style scoped>\n",
       "    .dataframe tbody tr th:only-of-type {\n",
       "        vertical-align: middle;\n",
       "    }\n",
       "\n",
       "    .dataframe tbody tr th {\n",
       "        vertical-align: top;\n",
       "    }\n",
       "\n",
       "    .dataframe thead th {\n",
       "        text-align: right;\n",
       "    }\n",
       "</style>\n",
       "<table border=\"1\" class=\"dataframe\">\n",
       "  <thead>\n",
       "    <tr style=\"text-align: right;\">\n",
       "      <th></th>\n",
       "      <th>last_price</th>\n",
       "      <th>total_area</th>\n",
       "      <th>rooms</th>\n",
       "      <th>ceiling_height</th>\n",
       "    </tr>\n",
       "  </thead>\n",
       "  <tbody>\n",
       "    <tr>\n",
       "      <th>last_price</th>\n",
       "      <td>1.000000</td>\n",
       "      <td>0.646839</td>\n",
       "      <td>0.359276</td>\n",
       "      <td>0.274316</td>\n",
       "    </tr>\n",
       "    <tr>\n",
       "      <th>total_area</th>\n",
       "      <td>0.646839</td>\n",
       "      <td>1.000000</td>\n",
       "      <td>0.761408</td>\n",
       "      <td>0.386742</td>\n",
       "    </tr>\n",
       "    <tr>\n",
       "      <th>rooms</th>\n",
       "      <td>0.359276</td>\n",
       "      <td>0.761408</td>\n",
       "      <td>1.000000</td>\n",
       "      <td>0.249311</td>\n",
       "    </tr>\n",
       "    <tr>\n",
       "      <th>ceiling_height</th>\n",
       "      <td>0.274316</td>\n",
       "      <td>0.386742</td>\n",
       "      <td>0.249311</td>\n",
       "      <td>1.000000</td>\n",
       "    </tr>\n",
       "  </tbody>\n",
       "</table>\n",
       "</div>"
      ],
      "text/plain": [
       "                last_price  total_area     rooms  ceiling_height\n",
       "last_price        1.000000    0.646839  0.359276        0.274316\n",
       "total_area        0.646839    1.000000  0.761408        0.386742\n",
       "rooms             0.359276    0.761408  1.000000        0.249311\n",
       "ceiling_height    0.274316    0.386742  0.249311        1.000000"
      ]
     },
     "execution_count": 146,
     "metadata": {},
     "output_type": "execute_result"
    },
    {
     "data": {
      "image/png": "[encoded data removed]",
      "text/plain": [
       "<Figure size 432x288 with 4 Axes>"
      ]
     },
     "metadata": {
      "needs_background": "light"
     },
     "output_type": "display_data"
    }
   ],
   "source": [
    "parametrs_research = data.iloc[:,[1,2,4,5]]\n",
    "parametrs_research.head()\n",
    "parametrs_research.hist()\n",
    "parametrs_research.describe()\n",
    "parametrs_research.corr()"
   ]
  },
  {
   "cell_type": "markdown",
   "metadata": {},
   "source": [
    "Вывод: цена коррелирует с общей площадью квартиры, которая коррелирует с количеством комнат, что довольно логично. \n",
    "А вот с высотой потолков взаимосвязь не такая большая. "
   ]
  },
  {
   "cell_type": "markdown",
   "metadata": {},
   "source": [
    "**2. Время продажи**"
   ]
  },
  {
   "cell_type": "code",
   "execution_count": 147,
   "metadata": {},
   "outputs": [
    {
     "data": {
      "text/plain": [
       "count    20366.000000\n",
       "mean       180.786752\n",
       "std        219.726681\n",
       "min          1.000000\n",
       "25%         45.000000\n",
       "50%         95.000000\n",
       "75%        231.000000\n",
       "max       1580.000000\n",
       "Name: days_exposition, dtype: float64"
      ]
     },
     "execution_count": 147,
     "metadata": {},
     "output_type": "execute_result"
    },
    {
     "data": {
      "image/png": "[encoded data removed]",
      "text/plain": [
       "<Figure size 432x288 with 1 Axes>"
      ]
     },
     "metadata": {
      "needs_background": "light"
     },
     "output_type": "display_data"
    }
   ],
   "source": [
    "data['days_exposition'].hist()\n",
    "data['days_exposition'].describe()"
   ]
  },
  {
   "cell_type": "markdown",
   "metadata": {},
   "source": [
    "Вывод: среднее время продажи квартиры составляет 95 дней. \n",
    "Долгая продажа квартиры составляет больше 600 дней - там значения редки.\n",
    "Быстрая продажа квартиры - за 45 дней. Это как раз первый квартиль"
   ]
  },
  {
   "cell_type": "markdown",
   "metadata": {},
   "source": [
    "**3. Редкие значения**"
   ]
  },
  {
   "cell_type": "code",
   "execution_count": 148,
   "metadata": {},
   "outputs": [
    {
     "data": {
      "text/plain": [
       "<matplotlib.axes._subplots.AxesSubplot at 0x7fb8fe189760>"
      ]
     },
     "execution_count": 148,
     "metadata": {},
     "output_type": "execute_result"
    },
    {
     "data": {
      "image/png": "[encoded data removed]",
      "text/plain": [
       "<Figure size 432x288 with 1 Axes>"
      ]
     },
     "metadata": {
      "needs_background": "light"
     },
     "output_type": "display_data"
    }
   ],
   "source": [
    "#Для более точного результата, посмотрим распределение цены.\n",
    "data['last_price_000']=data['last_price']/1000\n",
    "data['last_price_000'].describe()\n",
    "data['last_price_000'].hist(range=(1000,10000)) "
   ]
  },
  {
   "cell_type": "code",
   "execution_count": 149,
   "metadata": {},
   "outputs": [
    {
     "name": "stdout",
     "output_type": "stream",
     "text": [
      "<class 'pandas.core.frame.DataFrame'>\n",
      "Int64Index: 20525 entries, 1 to 23698\n",
      "Data columns (total 27 columns):\n",
      " #   Column                Non-Null Count  Dtype         \n",
      "---  ------                --------------  -----         \n",
      " 0   total_images          20525 non-null  int64         \n",
      " 1   last_price            20525 non-null  float64       \n",
      " 2   total_area            20525 non-null  float64       \n",
      " 3   first_day_exposition  20525 non-null  datetime64[ns]\n",
      " 4   rooms                 20525 non-null  int64         \n",
      " 5   ceiling_height        20525 non-null  float64       \n",
      " 6   floors_total          20525 non-null  float64       \n",
      " 7   living_area           20525 non-null  float64       \n",
      " 8   floor                 20525 non-null  int64         \n",
      " 9   is_apartment          2386 non-null   object        \n",
      " 10  studio                20525 non-null  bool          \n",
      " 11  open_plan             20525 non-null  bool          \n",
      " 12  kitchen_area          20525 non-null  float64       \n",
      " 13  balcony               10743 non-null  float64       \n",
      " 14  locality_name         20484 non-null  object        \n",
      " 15  airports_nearest      15328 non-null  float64       \n",
      " 16  cityCenters_nearest   15340 non-null  float64       \n",
      " 17  parks_around3000      15340 non-null  float64       \n",
      " 18  parks_nearest         6269 non-null   float64       \n",
      " 19  ponds_around3000      15340 non-null  float64       \n",
      " 20  ponds_nearest         7280 non-null   float64       \n",
      " 21  days_exposition       18108 non-null  float64       \n",
      " 22  last_floor            20525 non-null  float64       \n",
      " 23  Price_per_sqm         20525 non-null  float64       \n",
      " 24  living_total_area     20525 non-null  float64       \n",
      " 25  kitchen_total_area    20525 non-null  float64       \n",
      " 26  last_price_000        20525 non-null  float64       \n",
      "dtypes: bool(2), datetime64[ns](1), float64(19), int64(3), object(2)\n",
      "memory usage: 4.1+ MB\n"
     ]
    }
   ],
   "source": [
    "len(data.query('last_price_000 >1000 & last_price_000 < 10000')) \n",
    "#убрал аномальные значения - квартиры стоимость ниже 1 млн и выше 10 млн\n",
    "price_research = data.query('last_price_000 >1000 & last_price_000 < 10000')\n",
    "price_research.info()"
   ]
  },
  {
   "cell_type": "markdown",
   "metadata": {},
   "source": [
    "**4. Зависимость ли цены от квадратного метра, числа комнат, этажа (первого или последнего), удалённости от центра**"
   ]
  },
  {
   "cell_type": "code",
   "execution_count": 150,
   "metadata": {},
   "outputs": [
    {
     "data": {
      "text/html": [
       "<div>\n",
       "<style scoped>\n",
       "    .dataframe tbody tr th:only-of-type {\n",
       "        vertical-align: middle;\n",
       "    }\n",
       "\n",
       "    .dataframe tbody tr th {\n",
       "        vertical-align: top;\n",
       "    }\n",
       "\n",
       "    .dataframe thead th {\n",
       "        text-align: right;\n",
       "    }\n",
       "</style>\n",
       "<table border=\"1\" class=\"dataframe\">\n",
       "  <thead>\n",
       "    <tr style=\"text-align: right;\">\n",
       "      <th></th>\n",
       "      <th>last_price_000</th>\n",
       "      <th>Price_per_sqm</th>\n",
       "      <th>rooms</th>\n",
       "      <th>cityCenters_nearest</th>\n",
       "    </tr>\n",
       "  </thead>\n",
       "  <tbody>\n",
       "    <tr>\n",
       "      <th>last_price_000</th>\n",
       "      <td>1.000000</td>\n",
       "      <td>0.575291</td>\n",
       "      <td>0.434370</td>\n",
       "      <td>-0.329909</td>\n",
       "    </tr>\n",
       "    <tr>\n",
       "      <th>Price_per_sqm</th>\n",
       "      <td>0.575291</td>\n",
       "      <td>1.000000</td>\n",
       "      <td>-0.294254</td>\n",
       "      <td>-0.385603</td>\n",
       "    </tr>\n",
       "    <tr>\n",
       "      <th>rooms</th>\n",
       "      <td>0.434370</td>\n",
       "      <td>-0.294254</td>\n",
       "      <td>1.000000</td>\n",
       "      <td>-0.048724</td>\n",
       "    </tr>\n",
       "    <tr>\n",
       "      <th>cityCenters_nearest</th>\n",
       "      <td>-0.329909</td>\n",
       "      <td>-0.385603</td>\n",
       "      <td>-0.048724</td>\n",
       "      <td>1.000000</td>\n",
       "    </tr>\n",
       "  </tbody>\n",
       "</table>\n",
       "</div>"
      ],
      "text/plain": [
       "                     last_price_000  Price_per_sqm     rooms  \\\n",
       "last_price_000             1.000000       0.575291  0.434370   \n",
       "Price_per_sqm              0.575291       1.000000 -0.294254   \n",
       "rooms                      0.434370      -0.294254  1.000000   \n",
       "cityCenters_nearest       -0.329909      -0.385603 -0.048724   \n",
       "\n",
       "                     cityCenters_nearest  \n",
       "last_price_000                 -0.329909  \n",
       "Price_per_sqm                  -0.385603  \n",
       "rooms                          -0.048724  \n",
       "cityCenters_nearest             1.000000  "
      ]
     },
     "execution_count": 150,
     "metadata": {},
     "output_type": "execute_result"
    }
   ],
   "source": [
    "price_research1 = price_research.iloc[:,[26,23,4,16]]\n",
    "price_research1.corr()\n",
    "#pd.plotting.scatter_matrix(price_research, figsize=(9, 9))"
   ]
  },
  {
   "cell_type": "markdown",
   "metadata": {},
   "source": [
    "Вывод: обратная корреляция цены квартиры и расстояния до центра говорит о том, что чем ближе к центру, тем дороже стоит квартира."
   ]
  },
  {
   "cell_type": "markdown",
   "metadata": {},
   "source": [
    "**5. Цена и населенный пункт**"
   ]
  },
  {
   "cell_type": "code",
   "execution_count": 155,
   "metadata": {},
   "outputs": [
    {
     "data": {
      "text/html": [
       "<div>\n",
       "<style scoped>\n",
       "    .dataframe tbody tr th:only-of-type {\n",
       "        vertical-align: middle;\n",
       "    }\n",
       "\n",
       "    .dataframe tbody tr th {\n",
       "        vertical-align: top;\n",
       "    }\n",
       "\n",
       "    .dataframe thead th {\n",
       "        text-align: right;\n",
       "    }\n",
       "</style>\n",
       "<table border=\"1\" class=\"dataframe\">\n",
       "  <thead>\n",
       "    <tr style=\"text-align: right;\">\n",
       "      <th></th>\n",
       "      <th>Цена кв м</th>\n",
       "      <th>Количество объявлений</th>\n",
       "    </tr>\n",
       "    <tr>\n",
       "      <th>locality_name</th>\n",
       "      <th></th>\n",
       "      <th></th>\n",
       "    </tr>\n",
       "  </thead>\n",
       "  <tbody>\n",
       "    <tr>\n",
       "      <th>посёлок Лисий Нос</th>\n",
       "      <td>121616.221359</td>\n",
       "      <td>2</td>\n",
       "    </tr>\n",
       "    <tr>\n",
       "      <th>Санкт-Петербург</th>\n",
       "      <td>104204.460698</td>\n",
       "      <td>12962</td>\n",
       "    </tr>\n",
       "    <tr>\n",
       "      <th>Пушкин</th>\n",
       "      <td>99896.771588</td>\n",
       "      <td>327</td>\n",
       "    </tr>\n",
       "    <tr>\n",
       "      <th>Кудрово</th>\n",
       "      <td>99702.682447</td>\n",
       "      <td>170</td>\n",
       "    </tr>\n",
       "    <tr>\n",
       "      <th>Сестрорецк</th>\n",
       "      <td>98587.552928</td>\n",
       "      <td>164</td>\n",
       "    </tr>\n",
       "    <tr>\n",
       "      <th>деревня Мистолово</th>\n",
       "      <td>98549.976709</td>\n",
       "      <td>11</td>\n",
       "    </tr>\n",
       "    <tr>\n",
       "      <th>Зеленогорск</th>\n",
       "      <td>97894.210026</td>\n",
       "      <td>21</td>\n",
       "    </tr>\n",
       "    <tr>\n",
       "      <th>посёлок Левашово</th>\n",
       "      <td>96997.690531</td>\n",
       "      <td>1</td>\n",
       "    </tr>\n",
       "    <tr>\n",
       "      <th>Мурино</th>\n",
       "      <td>92722.708914</td>\n",
       "      <td>34</td>\n",
       "    </tr>\n",
       "    <tr>\n",
       "      <th>деревня Кудрово</th>\n",
       "      <td>92222.428053</td>\n",
       "      <td>296</td>\n",
       "    </tr>\n",
       "  </tbody>\n",
       "</table>\n",
       "</div>"
      ],
      "text/plain": [
       "                       Цена кв м  Количество объявлений\n",
       "locality_name                                          \n",
       "посёлок Лисий Нос  121616.221359                      2\n",
       "Санкт-Петербург    104204.460698                  12962\n",
       "Пушкин              99896.771588                    327\n",
       "Кудрово             99702.682447                    170\n",
       "Сестрорецк          98587.552928                    164\n",
       "деревня Мистолово   98549.976709                     11\n",
       "Зеленогорск         97894.210026                     21\n",
       "посёлок Левашово    96997.690531                      1\n",
       "Мурино              92722.708914                     34\n",
       "деревня Кудрово     92222.428053                    296"
      ]
     },
     "execution_count": 155,
     "metadata": {},
     "output_type": "execute_result"
    }
   ],
   "source": [
    "locality = price_research_normal.pivot_table(index='locality_name',values='Price_per_sqm',aggfunc=['mean','count'])\n",
    "locality.columns = ['Цена кв м','Количество объявлений']\n",
    "locality.sort_values(by='Цена кв м',ascending=False).head(10)\n",
    "#больше всего объявлений о продаже квартиры было зафиксировано в городе Санкт-Петербург"
   ]
  },
  {
   "cell_type": "code",
   "execution_count": 152,
   "metadata": {},
   "outputs": [
    {
     "data": {
      "text/html": [
       "<div>\n",
       "<style scoped>\n",
       "    .dataframe tbody tr th:only-of-type {\n",
       "        vertical-align: middle;\n",
       "    }\n",
       "\n",
       "    .dataframe tbody tr th {\n",
       "        vertical-align: top;\n",
       "    }\n",
       "\n",
       "    .dataframe thead th {\n",
       "        text-align: right;\n",
       "    }\n",
       "</style>\n",
       "<table border=\"1\" class=\"dataframe\">\n",
       "  <thead>\n",
       "    <tr style=\"text-align: right;\">\n",
       "      <th></th>\n",
       "      <th>Цена кв м</th>\n",
       "      <th>Количество объявлений</th>\n",
       "    </tr>\n",
       "    <tr>\n",
       "      <th>locality_name</th>\n",
       "      <th></th>\n",
       "      <th></th>\n",
       "    </tr>\n",
       "  </thead>\n",
       "  <tbody>\n",
       "    <tr>\n",
       "      <th>поселок Житково</th>\n",
       "      <td>15648.286140</td>\n",
       "      <td>1</td>\n",
       "    </tr>\n",
       "    <tr>\n",
       "      <th>посёлок Сумино</th>\n",
       "      <td>19572.953737</td>\n",
       "      <td>1</td>\n",
       "    </tr>\n",
       "    <tr>\n",
       "      <th>поселок городского типа Никольский</th>\n",
       "      <td>19577.327649</td>\n",
       "      <td>3</td>\n",
       "    </tr>\n",
       "    <tr>\n",
       "      <th>Бокситогорск</th>\n",
       "      <td>19600.140713</td>\n",
       "      <td>2</td>\n",
       "    </tr>\n",
       "    <tr>\n",
       "      <th>поселок Оредеж</th>\n",
       "      <td>19877.675841</td>\n",
       "      <td>1</td>\n",
       "    </tr>\n",
       "    <tr>\n",
       "      <th>деревня Кисельня</th>\n",
       "      <td>20909.090909</td>\n",
       "      <td>1</td>\n",
       "    </tr>\n",
       "    <tr>\n",
       "      <th>посёлок Плоское</th>\n",
       "      <td>20912.547529</td>\n",
       "      <td>1</td>\n",
       "    </tr>\n",
       "    <tr>\n",
       "      <th>Сланцы</th>\n",
       "      <td>20962.983017</td>\n",
       "      <td>25</td>\n",
       "    </tr>\n",
       "    <tr>\n",
       "      <th>поселок Торковичи</th>\n",
       "      <td>21075.225049</td>\n",
       "      <td>3</td>\n",
       "    </tr>\n",
       "    <tr>\n",
       "      <th>городской посёлок Лесогорский</th>\n",
       "      <td>21300.631533</td>\n",
       "      <td>2</td>\n",
       "    </tr>\n",
       "  </tbody>\n",
       "</table>\n",
       "</div>"
      ],
      "text/plain": [
       "                                       Цена кв м  Количество объявлений\n",
       "locality_name                                                          \n",
       "поселок Житково                     15648.286140                      1\n",
       "посёлок Сумино                      19572.953737                      1\n",
       "поселок городского типа Никольский  19577.327649                      3\n",
       "Бокситогорск                        19600.140713                      2\n",
       "поселок Оредеж                      19877.675841                      1\n",
       "деревня Кисельня                    20909.090909                      1\n",
       "посёлок Плоское                     20912.547529                      1\n",
       "Сланцы                              20962.983017                     25\n",
       "поселок Торковичи                   21075.225049                      3\n",
       "городской посёлок Лесогорский       21300.631533                      2"
      ]
     },
     "execution_count": 152,
     "metadata": {},
     "output_type": "execute_result"
    }
   ],
   "source": [
    "locality_by_total_area = price_research_normal.pivot_table(index='locality_name',values=['Price_per_sqm'],aggfunc=['mean','count'])\n",
    "locality_by_total_area.columns = ['Цена кв м','Количество объявлений']\n",
    "locality_by_total_area.sort_values(by='Цена кв м', ascending=True).head(10)"
   ]
  },
  {
   "cell_type": "markdown",
   "metadata": {},
   "source": [
    "Вывод: самые дешевые квартиры в поселке Житково"
   ]
  },
  {
   "cell_type": "markdown",
   "metadata": {},
   "source": [
    "**6. Квартиры в СПБ**"
   ]
  },
  {
   "cell_type": "code",
   "execution_count": 159,
   "metadata": {},
   "outputs": [
    {
     "data": {
      "text/plain": [
       "<matplotlib.axes._subplots.AxesSubplot at 0x7fb8fe0730a0>"
      ]
     },
     "execution_count": 159,
     "metadata": {},
     "output_type": "execute_result"
    },
    {
     "data": {
      "image/png": "[encoded data removed]",
      "text/plain": [
       "<Figure size 720x576 with 1 Axes>"
      ]
     },
     "metadata": {
      "needs_background": "light"
     },
     "output_type": "display_data"
    }
   ],
   "source": [
    "spb = price_research_normal.query('locality_name == \"Санкт-Петербург\"')\n",
    "spb.describe() #5393 - это last_price mean\n",
    "spb = spb.dropna(subset=['cityCenters_nearest'])\n",
    "spb['cityCenters_nearest'].isna().sum()\n",
    "spb.describe() #после удаления пустых строк по столбцу 'cityCenters_nearest' среднее стало 5392, так что безболезненно почистили пустые значения\n",
    "spb['city_centrs_km']=(round(spb['cityCenters_nearest']/1000,0))\n",
    "spb['city_centrs_km'] = spb['city_centrs_km'].astype('int')\n",
    "#spb.info() #перевел расстояние до центра в километры и преобразовал в целые числа\n",
    "spb.head()\n",
    "spb.pivot_table(index='city_centrs_km',values='Price_per_sqm',aggfunc='mean').plot(grid=True,figsize=(10,8))\n",
    "#построил зависимость средних величин между расстоянием до центра и ценой квадратного метра"
   ]
  },
  {
   "cell_type": "markdown",
   "metadata": {},
   "source": [
    "Определим центр города расстоянием в 10 км - здесь средняя цена самая высокая 110-120 тысяч за метр"
   ]
  },
  {
   "cell_type": "markdown",
   "metadata": {},
   "source": [
    "**7. Квартиры в центре СПБ**"
   ]
  },
  {
   "cell_type": "code",
   "execution_count": 166,
   "metadata": {},
   "outputs": [
    {
     "data": {
      "text/html": [
       "<div>\n",
       "<style scoped>\n",
       "    .dataframe tbody tr th:only-of-type {\n",
       "        vertical-align: middle;\n",
       "    }\n",
       "\n",
       "    .dataframe tbody tr th {\n",
       "        vertical-align: top;\n",
       "    }\n",
       "\n",
       "    .dataframe thead th {\n",
       "        text-align: right;\n",
       "    }\n",
       "</style>\n",
       "<table border=\"1\" class=\"dataframe\">\n",
       "  <thead>\n",
       "    <tr style=\"text-align: right;\">\n",
       "      <th></th>\n",
       "      <th>total_images</th>\n",
       "      <th>last_price</th>\n",
       "      <th>total_area</th>\n",
       "      <th>rooms</th>\n",
       "      <th>ceiling_height</th>\n",
       "      <th>floors_total</th>\n",
       "      <th>living_area</th>\n",
       "      <th>floor</th>\n",
       "      <th>kitchen_area</th>\n",
       "      <th>balcony</th>\n",
       "      <th>...</th>\n",
       "      <th>parks_nearest</th>\n",
       "      <th>ponds_around3000</th>\n",
       "      <th>ponds_nearest</th>\n",
       "      <th>days_exposition</th>\n",
       "      <th>last_floor</th>\n",
       "      <th>Price_per_sqm</th>\n",
       "      <th>living_total_area</th>\n",
       "      <th>kitchen_total_area</th>\n",
       "      <th>last_price_000</th>\n",
       "      <th>city_centrs_km</th>\n",
       "    </tr>\n",
       "  </thead>\n",
       "  <tbody>\n",
       "    <tr>\n",
       "      <th>count</th>\n",
       "      <td>3466.000000</td>\n",
       "      <td>3.466000e+03</td>\n",
       "      <td>3466.000000</td>\n",
       "      <td>3466.000000</td>\n",
       "      <td>3466.000000</td>\n",
       "      <td>3466.000000</td>\n",
       "      <td>3466.000000</td>\n",
       "      <td>3466.000000</td>\n",
       "      <td>3466.000000</td>\n",
       "      <td>1522.000000</td>\n",
       "      <td>...</td>\n",
       "      <td>2064.000000</td>\n",
       "      <td>3466.000000</td>\n",
       "      <td>2045.000000</td>\n",
       "      <td>3095.000000</td>\n",
       "      <td>3466.000000</td>\n",
       "      <td>3466.000000</td>\n",
       "      <td>3466.000000</td>\n",
       "      <td>3466.000000</td>\n",
       "      <td>3466.000000</td>\n",
       "      <td>3466.000000</td>\n",
       "    </tr>\n",
       "    <tr>\n",
       "      <th>mean</th>\n",
       "      <td>9.471437</td>\n",
       "      <td>6.250714e+06</td>\n",
       "      <td>57.895490</td>\n",
       "      <td>2.079054</td>\n",
       "      <td>2.793468</td>\n",
       "      <td>8.364397</td>\n",
       "      <td>33.879588</td>\n",
       "      <td>4.577900</td>\n",
       "      <td>9.964599</td>\n",
       "      <td>0.809461</td>\n",
       "      <td>...</td>\n",
       "      <td>489.912306</td>\n",
       "      <td>0.990479</td>\n",
       "      <td>489.167726</td>\n",
       "      <td>197.434572</td>\n",
       "      <td>3.786497</td>\n",
       "      <td>112140.348497</td>\n",
       "      <td>0.575940</td>\n",
       "      <td>0.185002</td>\n",
       "      <td>6250.713971</td>\n",
       "      <td>6.612522</td>\n",
       "    </tr>\n",
       "    <tr>\n",
       "      <th>std</th>\n",
       "      <td>5.482484</td>\n",
       "      <td>1.912678e+06</td>\n",
       "      <td>20.547912</td>\n",
       "      <td>0.938566</td>\n",
       "      <td>0.273063</td>\n",
       "      <td>5.300406</td>\n",
       "      <td>14.855321</td>\n",
       "      <td>3.628788</td>\n",
       "      <td>4.056488</td>\n",
       "      <td>0.946548</td>\n",
       "      <td>...</td>\n",
       "      <td>362.384158</td>\n",
       "      <td>1.043178</td>\n",
       "      <td>261.917679</td>\n",
       "      <td>238.251781</td>\n",
       "      <td>3.952459</td>\n",
       "      <td>26853.860055</td>\n",
       "      <td>0.103658</td>\n",
       "      <td>0.077735</td>\n",
       "      <td>1912.677510</td>\n",
       "      <td>2.607162</td>\n",
       "    </tr>\n",
       "    <tr>\n",
       "      <th>min</th>\n",
       "      <td>0.000000</td>\n",
       "      <td>1.600000e+06</td>\n",
       "      <td>12.000000</td>\n",
       "      <td>0.000000</td>\n",
       "      <td>2.500000</td>\n",
       "      <td>2.000000</td>\n",
       "      <td>10.000000</td>\n",
       "      <td>1.000000</td>\n",
       "      <td>2.000000</td>\n",
       "      <td>0.000000</td>\n",
       "      <td>...</td>\n",
       "      <td>11.000000</td>\n",
       "      <td>0.000000</td>\n",
       "      <td>22.000000</td>\n",
       "      <td>2.000000</td>\n",
       "      <td>0.000000</td>\n",
       "      <td>15345.268542</td>\n",
       "      <td>0.141304</td>\n",
       "      <td>0.060606</td>\n",
       "      <td>1600.000000</td>\n",
       "      <td>0.000000</td>\n",
       "    </tr>\n",
       "    <tr>\n",
       "      <th>25%</th>\n",
       "      <td>6.000000</td>\n",
       "      <td>4.700000e+06</td>\n",
       "      <td>43.000000</td>\n",
       "      <td>1.000000</td>\n",
       "      <td>2.650000</td>\n",
       "      <td>5.000000</td>\n",
       "      <td>20.625000</td>\n",
       "      <td>2.000000</td>\n",
       "      <td>7.500000</td>\n",
       "      <td>0.000000</td>\n",
       "      <td>...</td>\n",
       "      <td>288.000000</td>\n",
       "      <td>0.000000</td>\n",
       "      <td>274.000000</td>\n",
       "      <td>45.000000</td>\n",
       "      <td>1.000000</td>\n",
       "      <td>93463.270963</td>\n",
       "      <td>0.517241</td>\n",
       "      <td>0.129903</td>\n",
       "      <td>4700.000000</td>\n",
       "      <td>5.000000</td>\n",
       "    </tr>\n",
       "    <tr>\n",
       "      <th>50%</th>\n",
       "      <td>9.000000</td>\n",
       "      <td>6.200000e+06</td>\n",
       "      <td>55.000000</td>\n",
       "      <td>2.000000</td>\n",
       "      <td>2.650000</td>\n",
       "      <td>6.000000</td>\n",
       "      <td>31.467025</td>\n",
       "      <td>4.000000</td>\n",
       "      <td>9.100000</td>\n",
       "      <td>1.000000</td>\n",
       "      <td>...</td>\n",
       "      <td>441.000000</td>\n",
       "      <td>1.000000</td>\n",
       "      <td>471.000000</td>\n",
       "      <td>104.000000</td>\n",
       "      <td>3.000000</td>\n",
       "      <td>107644.728153</td>\n",
       "      <td>0.578125</td>\n",
       "      <td>0.164565</td>\n",
       "      <td>6200.000000</td>\n",
       "      <td>7.000000</td>\n",
       "    </tr>\n",
       "    <tr>\n",
       "      <th>75%</th>\n",
       "      <td>13.000000</td>\n",
       "      <td>7.800000e+06</td>\n",
       "      <td>70.800000</td>\n",
       "      <td>3.000000</td>\n",
       "      <td>3.000000</td>\n",
       "      <td>10.000000</td>\n",
       "      <td>43.000000</td>\n",
       "      <td>5.000000</td>\n",
       "      <td>11.300000</td>\n",
       "      <td>1.000000</td>\n",
       "      <td>...</td>\n",
       "      <td>602.000000</td>\n",
       "      <td>2.000000</td>\n",
       "      <td>687.000000</td>\n",
       "      <td>256.000000</td>\n",
       "      <td>5.000000</td>\n",
       "      <td>127721.427034</td>\n",
       "      <td>0.648083</td>\n",
       "      <td>0.225186</td>\n",
       "      <td>7800.000000</td>\n",
       "      <td>9.000000</td>\n",
       "    </tr>\n",
       "    <tr>\n",
       "      <th>max</th>\n",
       "      <td>32.000000</td>\n",
       "      <td>9.999870e+06</td>\n",
       "      <td>190.000000</td>\n",
       "      <td>6.000000</td>\n",
       "      <td>4.000000</td>\n",
       "      <td>28.000000</td>\n",
       "      <td>108.000000</td>\n",
       "      <td>26.000000</td>\n",
       "      <td>48.300000</td>\n",
       "      <td>5.000000</td>\n",
       "      <td>...</td>\n",
       "      <td>3190.000000</td>\n",
       "      <td>3.000000</td>\n",
       "      <td>1313.000000</td>\n",
       "      <td>1497.000000</td>\n",
       "      <td>24.000000</td>\n",
       "      <td>312240.000000</td>\n",
       "      <td>0.972222</td>\n",
       "      <td>0.758333</td>\n",
       "      <td>9999.870000</td>\n",
       "      <td>10.000000</td>\n",
       "    </tr>\n",
       "  </tbody>\n",
       "</table>\n",
       "<p>8 rows × 23 columns</p>\n",
       "</div>"
      ],
      "text/plain": [
       "       total_images    last_price   total_area        rooms  ceiling_height  \\\n",
       "count   3466.000000  3.466000e+03  3466.000000  3466.000000     3466.000000   \n",
       "mean       9.471437  6.250714e+06    57.895490     2.079054        2.793468   \n",
       "std        5.482484  1.912678e+06    20.547912     0.938566        0.273063   \n",
       "min        0.000000  1.600000e+06    12.000000     0.000000        2.500000   \n",
       "25%        6.000000  4.700000e+06    43.000000     1.000000        2.650000   \n",
       "50%        9.000000  6.200000e+06    55.000000     2.000000        2.650000   \n",
       "75%       13.000000  7.800000e+06    70.800000     3.000000        3.000000   \n",
       "max       32.000000  9.999870e+06   190.000000     6.000000        4.000000   \n",
       "\n",
       "       floors_total  living_area        floor  kitchen_area      balcony  ...  \\\n",
       "count   3466.000000  3466.000000  3466.000000   3466.000000  1522.000000  ...   \n",
       "mean       8.364397    33.879588     4.577900      9.964599     0.809461  ...   \n",
       "std        5.300406    14.855321     3.628788      4.056488     0.946548  ...   \n",
       "min        2.000000    10.000000     1.000000      2.000000     0.000000  ...   \n",
       "25%        5.000000    20.625000     2.000000      7.500000     0.000000  ...   \n",
       "50%        6.000000    31.467025     4.000000      9.100000     1.000000  ...   \n",
       "75%       10.000000    43.000000     5.000000     11.300000     1.000000  ...   \n",
       "max       28.000000   108.000000    26.000000     48.300000     5.000000  ...   \n",
       "\n",
       "       parks_nearest  ponds_around3000  ponds_nearest  days_exposition  \\\n",
       "count    2064.000000       3466.000000    2045.000000      3095.000000   \n",
       "mean      489.912306          0.990479     489.167726       197.434572   \n",
       "std       362.384158          1.043178     261.917679       238.251781   \n",
       "min        11.000000          0.000000      22.000000         2.000000   \n",
       "25%       288.000000          0.000000     274.000000        45.000000   \n",
       "50%       441.000000          1.000000     471.000000       104.000000   \n",
       "75%       602.000000          2.000000     687.000000       256.000000   \n",
       "max      3190.000000          3.000000    1313.000000      1497.000000   \n",
       "\n",
       "        last_floor  Price_per_sqm  living_total_area  kitchen_total_area  \\\n",
       "count  3466.000000    3466.000000        3466.000000         3466.000000   \n",
       "mean      3.786497  112140.348497           0.575940            0.185002   \n",
       "std       3.952459   26853.860055           0.103658            0.077735   \n",
       "min       0.000000   15345.268542           0.141304            0.060606   \n",
       "25%       1.000000   93463.270963           0.517241            0.129903   \n",
       "50%       3.000000  107644.728153           0.578125            0.164565   \n",
       "75%       5.000000  127721.427034           0.648083            0.225186   \n",
       "max      24.000000  312240.000000           0.972222            0.758333   \n",
       "\n",
       "       last_price_000  city_centrs_km  \n",
       "count     3466.000000     3466.000000  \n",
       "mean      6250.713971        6.612522  \n",
       "std       1912.677510        2.607162  \n",
       "min       1600.000000        0.000000  \n",
       "25%       4700.000000        5.000000  \n",
       "50%       6200.000000        7.000000  \n",
       "75%       7800.000000        9.000000  \n",
       "max       9999.870000       10.000000  \n",
       "\n",
       "[8 rows x 23 columns]"
      ]
     },
     "execution_count": 166,
     "metadata": {},
     "output_type": "execute_result"
    }
   ],
   "source": [
    "spb_centrs=spb[spb['city_centrs_km'] <= 10]\n",
    "spb_centrs.describe()"
   ]
  },
  {
   "cell_type": "code",
   "execution_count": 167,
   "metadata": {},
   "outputs": [
    {
     "data": {
      "text/html": [
       "<div>\n",
       "<style scoped>\n",
       "    .dataframe tbody tr th:only-of-type {\n",
       "        vertical-align: middle;\n",
       "    }\n",
       "\n",
       "    .dataframe tbody tr th {\n",
       "        vertical-align: top;\n",
       "    }\n",
       "\n",
       "    .dataframe thead th {\n",
       "        text-align: right;\n",
       "    }\n",
       "</style>\n",
       "<table border=\"1\" class=\"dataframe\">\n",
       "  <thead>\n",
       "    <tr style=\"text-align: right;\">\n",
       "      <th></th>\n",
       "      <th>last_price_000</th>\n",
       "      <th>total_area</th>\n",
       "      <th>rooms</th>\n",
       "      <th>ceiling_height</th>\n",
       "      <th>floor</th>\n",
       "      <th>city_centrs_km</th>\n",
       "    </tr>\n",
       "  </thead>\n",
       "  <tbody>\n",
       "    <tr>\n",
       "      <th>last_price_000</th>\n",
       "      <td>1.000000</td>\n",
       "      <td>0.724468</td>\n",
       "      <td>0.495723</td>\n",
       "      <td>0.351308</td>\n",
       "      <td>0.023731</td>\n",
       "      <td>-0.389025</td>\n",
       "    </tr>\n",
       "    <tr>\n",
       "      <th>total_area</th>\n",
       "      <td>0.724468</td>\n",
       "      <td>1.000000</td>\n",
       "      <td>0.801882</td>\n",
       "      <td>0.335669</td>\n",
       "      <td>-0.108610</td>\n",
       "      <td>-0.334300</td>\n",
       "    </tr>\n",
       "    <tr>\n",
       "      <th>rooms</th>\n",
       "      <td>0.495723</td>\n",
       "      <td>0.801882</td>\n",
       "      <td>1.000000</td>\n",
       "      <td>0.231984</td>\n",
       "      <td>-0.200855</td>\n",
       "      <td>-0.239754</td>\n",
       "    </tr>\n",
       "    <tr>\n",
       "      <th>ceiling_height</th>\n",
       "      <td>0.351308</td>\n",
       "      <td>0.335669</td>\n",
       "      <td>0.231984</td>\n",
       "      <td>1.000000</td>\n",
       "      <td>-0.169276</td>\n",
       "      <td>-0.371430</td>\n",
       "    </tr>\n",
       "    <tr>\n",
       "      <th>floor</th>\n",
       "      <td>0.023731</td>\n",
       "      <td>-0.108610</td>\n",
       "      <td>-0.200855</td>\n",
       "      <td>-0.169276</td>\n",
       "      <td>1.000000</td>\n",
       "      <td>0.263473</td>\n",
       "    </tr>\n",
       "    <tr>\n",
       "      <th>city_centrs_km</th>\n",
       "      <td>-0.389025</td>\n",
       "      <td>-0.334300</td>\n",
       "      <td>-0.239754</td>\n",
       "      <td>-0.371430</td>\n",
       "      <td>0.263473</td>\n",
       "      <td>1.000000</td>\n",
       "    </tr>\n",
       "  </tbody>\n",
       "</table>\n",
       "</div>"
      ],
      "text/plain": [
       "                last_price_000  total_area     rooms  ceiling_height  \\\n",
       "last_price_000        1.000000    0.724468  0.495723        0.351308   \n",
       "total_area            0.724468    1.000000  0.801882        0.335669   \n",
       "rooms                 0.495723    0.801882  1.000000        0.231984   \n",
       "ceiling_height        0.351308    0.335669  0.231984        1.000000   \n",
       "floor                 0.023731   -0.108610 -0.200855       -0.169276   \n",
       "city_centrs_km       -0.389025   -0.334300 -0.239754       -0.371430   \n",
       "\n",
       "                   floor  city_centrs_km  \n",
       "last_price_000  0.023731       -0.389025  \n",
       "total_area     -0.108610       -0.334300  \n",
       "rooms          -0.200855       -0.239754  \n",
       "ceiling_height -0.169276       -0.371430  \n",
       "floor           1.000000        0.263473  \n",
       "city_centrs_km  0.263473        1.000000  "
      ]
     },
     "execution_count": 167,
     "metadata": {},
     "output_type": "execute_result"
    }
   ],
   "source": [
    "spb_centrs_research = spb_centrs.iloc[:,[26,2,4,5,8,27]]\n",
    "#spb_centrs_research.info()\n",
    "spb_centrs_research.corr()"
   ]
  },
  {
   "cell_type": "code",
   "execution_count": 168,
   "metadata": {},
   "outputs": [
    {
     "data": {
      "text/plain": [
       "array([[<matplotlib.axes._subplots.AxesSubplot object at 0x7fb8fd1e8a90>,\n",
       "        <matplotlib.axes._subplots.AxesSubplot object at 0x7fb8fde4c3a0>,\n",
       "        <matplotlib.axes._subplots.AxesSubplot object at 0x7fb8fde778b0>,\n",
       "        <matplotlib.axes._subplots.AxesSubplot object at 0x7fb8fe805f70>,\n",
       "        <matplotlib.axes._subplots.AxesSubplot object at 0x7fb8fe81f730>,\n",
       "        <matplotlib.axes._subplots.AxesSubplot object at 0x7fb8fe8dec40>],\n",
       "       [<matplotlib.axes._subplots.AxesSubplot object at 0x7fb8fe8ded30>,\n",
       "        <matplotlib.axes._subplots.AxesSubplot object at 0x7fb8fe0b1520>,\n",
       "        <matplotlib.axes._subplots.AxesSubplot object at 0x7fb8fe16e400>,\n",
       "        <matplotlib.axes._subplots.AxesSubplot object at 0x7fb8fe553b50>,\n",
       "        <matplotlib.axes._subplots.AxesSubplot object at 0x7fb8fe9c9310>,\n",
       "        <matplotlib.axes._subplots.AxesSubplot object at 0x7fb8fe9d2a90>],\n",
       "       [<matplotlib.axes._subplots.AxesSubplot object at 0x7fb8fd651250>,\n",
       "        <matplotlib.axes._subplots.AxesSubplot object at 0x7fb8fd8389d0>,\n",
       "        <matplotlib.axes._subplots.AxesSubplot object at 0x7fb8fdbf1190>,\n",
       "        <matplotlib.axes._subplots.AxesSubplot object at 0x7fb8fe413910>,\n",
       "        <matplotlib.axes._subplots.AxesSubplot object at 0x7fb8fe4b8130>,\n",
       "        <matplotlib.axes._subplots.AxesSubplot object at 0x7fb8fe524850>],\n",
       "       [<matplotlib.axes._subplots.AxesSubplot object at 0x7fb8fe538fd0>,\n",
       "        <matplotlib.axes._subplots.AxesSubplot object at 0x7fb8fe97d790>,\n",
       "        <matplotlib.axes._subplots.AxesSubplot object at 0x7fb8fd69bf10>,\n",
       "        <matplotlib.axes._subplots.AxesSubplot object at 0x7fb8fd8536d0>,\n",
       "        <matplotlib.axes._subplots.AxesSubplot object at 0x7fb8fda2ce50>,\n",
       "        <matplotlib.axes._subplots.AxesSubplot object at 0x7fb8fecc2610>],\n",
       "       [<matplotlib.axes._subplots.AxesSubplot object at 0x7fb8fecbbd90>,\n",
       "        <matplotlib.axes._subplots.AxesSubplot object at 0x7fb8fe3f7550>,\n",
       "        <matplotlib.axes._subplots.AxesSubplot object at 0x7fb8fe655cd0>,\n",
       "        <matplotlib.axes._subplots.AxesSubplot object at 0x7fb8fe6cf490>,\n",
       "        <matplotlib.axes._subplots.AxesSubplot object at 0x7fb8fe6fbc10>,\n",
       "        <matplotlib.axes._subplots.AxesSubplot object at 0x7fb8fded03d0>],\n",
       "       [<matplotlib.axes._subplots.AxesSubplot object at 0x7fb8fe0f9b50>,\n",
       "        <matplotlib.axes._subplots.AxesSubplot object at 0x7fb8fd36c310>,\n",
       "        <matplotlib.axes._subplots.AxesSubplot object at 0x7fb8fd48ca90>,\n",
       "        <matplotlib.axes._subplots.AxesSubplot object at 0x7fb8fdfc6250>,\n",
       "        <matplotlib.axes._subplots.AxesSubplot object at 0x7fb8fdfd79d0>,\n",
       "        <matplotlib.axes._subplots.AxesSubplot object at 0x7fb8fe62e190>]],\n",
       "      dtype=object)"
      ]
     },
     "execution_count": 168,
     "metadata": {},
     "output_type": "execute_result"
    },
    {
     "data": {
      "image/png": "[encoded data removed]",
      "text/plain": [
       "<Figure size 720x720 with 36 Axes>"
      ]
     },
     "metadata": {
      "needs_background": "light"
     },
     "output_type": "display_data"
    }
   ],
   "source": [
    "pd.plotting.scatter_matrix(spb_centrs_research,figsize=(10,10))"
   ]
  },
  {
   "cell_type": "markdown",
   "metadata": {},
   "source": [
    "Цена квартиры в центре Санкт-Петербурга зависит от следующих факторов:\n",
    "* сильная зависимость от площади квартиры\n",
    "* площадь квартиры в свою очередь имеет прямую зависимость с количеством комнат, что логично\n",
    "* цена квартиры падает при отдалении от центра\n",
    "* в центре города средняя высота потолков немного выше"
   ]
  },
  {
   "cell_type": "markdown",
   "metadata": {},
   "source": [
    "### Общий вывод\n",
    "\n",
    "* Среднее время продажи квартиры составляет 95 дней. \n",
    "Долгая продажа квартиры составляет больше 600 дней. Быстрая продажа квартиры - за 45 дней. Это как раз первый квартиль\n",
    "* Цена квартиры повышается с увеличением общей площади квартиры, которая коррелирует с количеством комнат, что довольно логично. \n",
    "* Самая дешевая цена квадратного метра встречается в поселках - есть пара объявления по цене до 20 тысяч рублей за метр\n",
    "* Самое большое количество объявлений в Санкт-Петербурге.\n",
    "* Самые высокие показатели за квадратный метр в Санкт-Петербурге находятся в районе 10 км от центра - цена за 1 кв метр колеблется в районе 110-120 тысяч рублей.\n",
    "* По всем объявлениям цена не коррелирует с высотой потолков. А вот квартиры в центре Санкт-Петербурга имеют взаимосвязь цены и высоты потолков - ближе к центру потолки выше и цена соотвественно тоже. \n",
    "* Чем ближе к центру, тем выше стоимость квартиры. \n"
   ]
  }
 ],
 "metadata": {
  "kernelspec": {
   "display_name": "Python 3",
   "language": "python",
   "name": "python3"
  },
  "language_info": {
   "codemirror_mode": {
    "name": "ipython",
    "version": 3
   },
   "file_extension": ".py",
   "mimetype": "text/x-python",
   "name": "python",
   "nbconvert_exporter": "python",
   "pygments_lexer": "ipython3",
   "version": "3.8.3"
  }
 },
 "nbformat": 4,
 "nbformat_minor": 2
}
